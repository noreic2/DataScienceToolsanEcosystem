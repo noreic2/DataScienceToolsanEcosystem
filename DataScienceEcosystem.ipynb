{
 "cells": [
  {
   "cell_type": "markdown",
   "id": "673eb9a4-273d-4796-acd0-e4416a34ae37",
   "metadata": {},
   "source": [
    "# Data Science Tools and Ecosystem"
   ]
  },
  {
   "cell_type": "markdown",
   "id": "aab39f48-af44-45f8-aa89-63883189f384",
   "metadata": {},
   "source": [
    "In this notebook, Data Science Tools and Ecosystem are summarized."
   ]
  },
  {
   "cell_type": "markdown",
   "id": "3274242f-51fd-4d42-abe4-f0b7b6e48cad",
   "metadata": {},
   "source": [
    "Some of the popular languages that Data Scientists use are:\n",
    "1. Python\n",
    "2. R\n",
    "3. Java"
   ]
  },
  {
   "cell_type": "markdown",
   "id": "04ad3f86-b58d-4179-be7c-5a6da59d092a",
   "metadata": {},
   "source": [
    "Some of the commonly used libraries used by Data Scientists include:\n",
    "1. Pandas\n",
    "2. NumPy\n",
    "3. Matplotlib"
   ]
  },
  {
   "cell_type": "markdown",
   "id": "66671f3f-8325-4df7-9571-f7df41045fe4",
   "metadata": {},
   "source": [
    "| Data Science Tools |\n",
    "|----------|\n",
    "| Jupyter Notebook  |\n",
    "| RStudio |\n",
    "| VS Studio |"
   ]
  },
  {
   "cell_type": "markdown",
   "id": "9e6b3605-81da-4a6e-8235-56f0c214e71e",
   "metadata": {},
   "source": [
    "### Below are a few examples of evaluating arithmetic expressions in Python"
   ]
  },
  {
   "cell_type": "code",
   "execution_count": 6,
   "id": "15b2c6c5-8266-46af-9157-269736600d20",
   "metadata": {},
   "outputs": [
    {
     "data": {
      "text/plain": [
       "17"
      ]
     },
     "execution_count": 6,
     "metadata": {},
     "output_type": "execute_result"
    }
   ],
   "source": [
    "### Below are a few examples of evaluating arithmetic expressions in Python\n",
    "### This a simple arithmetic expression to mutiply then add integers\n",
    "(3*4)+5"
   ]
  },
  {
   "cell_type": "code",
   "execution_count": 7,
   "id": "beb1dc95-d9d6-41d6-900b-7c0c6ec8e5cb",
   "metadata": {},
   "outputs": [
    {
     "data": {
      "text/plain": [
       "3.3333333333333335"
      ]
     },
     "execution_count": 7,
     "metadata": {},
     "output_type": "execute_result"
    }
   ],
   "source": [
    "### This will convert 200 minutes to hours by diving by 60\n",
    "200 / 60"
   ]
  },
  {
   "cell_type": "markdown",
   "id": "32a2b114-602d-4570-a57a-9139a4e45d84",
   "metadata": {},
   "source": [
    "**Objectives:**\n",
    "\n",
    "+ Some of the commonly used libraries used by Data Scientists\n",
    "+ List popular languages for Data Science\n",
    "+ Simple arithmetic expression\n"
   ]
  },
  {
   "cell_type": "markdown",
   "id": "a91177c1-80b4-4df2-8b2c-3b5cb6af215b",
   "metadata": {},
   "source": [
    "## Author\n",
    "Norberto Eichstaedt Junior"
   ]
  }
 ],
 "metadata": {
  "kernelspec": {
   "display_name": "Python 3 (ipykernel)",
   "language": "python",
   "name": "python3"
  },
  "language_info": {
   "codemirror_mode": {
    "name": "ipython",
    "version": 3
   },
   "file_extension": ".py",
   "mimetype": "text/x-python",
   "name": "python",
   "nbconvert_exporter": "python",
   "pygments_lexer": "ipython3",
   "version": "3.12.8"
  }
 },
 "nbformat": 4,
 "nbformat_minor": 5
}
